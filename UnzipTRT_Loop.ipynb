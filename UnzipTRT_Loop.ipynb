{
 "cells": [
  {
   "cell_type": "markdown",
   "metadata": {},
   "source": [
    "## Unzip TRT data"
   ]
  },
  {
   "cell_type": "code",
   "execution_count": null,
   "metadata": {},
   "outputs": [
    {
     "ename": "",
     "evalue": "",
     "output_type": "error",
     "traceback": [
      "\u001b[1;31mThe kernel failed to start as the Python Environment 'Python 3.12.7' is no longer available. Consider selecting another kernel or refreshing the list of Python Environments."
     ]
    }
   ],
   "source": [
    "import os\n",
    "import subprocess\n",
    "from datetime import datetime, timedelta\n",
    "\n",
    "# Define the base directory\n",
    "base_dir = \"/store_new/mch/msrad/radar/swiss/data\"\n",
    "\n",
    "# Define the target scratch directory\n",
    "scratch_dir = \"/scratch/mch/fackerma/orders/TRT_set\"\n",
    "\n",
    "# Define the date range\n",
    "start_date = datetime(2023, 8, 24)\n",
    "end_date = datetime(2023, 8, 24)\n",
    "\n",
    "# Iterate through the date range\n",
    "current_date = start_date\n",
    "while current_date <= end_date:\n",
    "    # Check if it's within June to August\n",
    "    if current_date.month in [6, 7, 8]:\n",
    "        year = current_date.year\n",
    "        day_of_year = current_date.strftime(\"%y%j\")\n",
    "        \n",
    "        # Construct the full path to the zip file\n",
    "        zip_file = f\"{base_dir}/{year}/{day_of_year}/TRTC{day_of_year}.zip\"\n",
    "        \n",
    "        # Check if the zip file exists\n",
    "        if os.path.exists(zip_file):\n",
    "            # Construct the unzip command\n",
    "            cmd = f\"unzip -o -d {scratch_dir} {zip_file}\"\n",
    "            \n",
    "            # Execute the unzip command\n",
    "            subprocess.run(cmd, shell=True, check=True)\n",
    "            \n",
    "            print(f\"Unzipped: {zip_file}\")\n",
    "    \n",
    "    # Move to the next day\n",
    "    current_date += timedelta(days=1)\n",
    "\n",
    "print(\"Unzipping complete!\")"
   ]
  }
 ],
 "metadata": {
  "kernelspec": {
   "display_name": "testenv",
   "language": "python",
   "name": "python3"
  },
  "language_info": {
   "codemirror_mode": {
    "name": "ipython",
    "version": 3
   },
   "file_extension": ".py",
   "mimetype": "text/x-python",
   "name": "python",
   "nbconvert_exporter": "python",
   "pygments_lexer": "ipython3",
   "version": "3.12.7"
  }
 },
 "nbformat": 4,
 "nbformat_minor": 2
}
